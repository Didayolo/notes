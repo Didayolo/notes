{
 "cells": [
  {
   "cell_type": "code",
   "execution_count": 5,
   "metadata": {
    "collapsed": true
   },
   "outputs": [],
   "source": [
    "import pandas as pd\n",
    "import numpy as np\n",
    "import matplotlib.pyplot as plt\n",
    "%matplotlib inline"
   ]
  },
  {
   "cell_type": "code",
   "execution_count": 6,
   "metadata": {
    "collapsed": true
   },
   "outputs": [],
   "source": [
    "def precision(a, b):\n",
    "    if a == 0:\n",
    "        if b == 0:\n",
    "            return 1\n",
    "        elif b == 1:\n",
    "            return 0.8\n",
    "        else:\n",
    "            return 0\n",
    "        \n",
    "    elif a == 5:\n",
    "        if b == 5:\n",
    "            return 1\n",
    "        elif b == 4:\n",
    "            return 0.8 \n",
    "        else:\n",
    "            return 0\n",
    "        \n",
    "    else:\n",
    "        if a-b == 0:\n",
    "            return 1\n",
    "        elif abs(a-b) == 1:\n",
    "            return 0.4\n",
    "        else:\n",
    "            return 0\n",
    "\n",
    "def precision_score(y_test, y_pred):\n",
    "    total = 0\n",
    "    for i in range(len(y_test)):\n",
    "        total += precision(y_test[i], y_pred[i])\n",
    "    return total / len(y_test)"
   ]
  },
  {
   "cell_type": "code",
   "execution_count": 8,
   "metadata": {
    "collapsed": true
   },
   "outputs": [],
   "source": [
    "# load data\n",
    "train_filename = 'data/train.csv'\n",
    "test_filename = 'data/test.csv'\n",
    "\n",
    "data_train = pd.read_csv(train_filename, sep='\\t')\n",
    "data_train = data_train.fillna('')\n",
    "data_test = pd.read_csv(test_filename, sep='\\t')\n",
    "data_test = data_test.fillna('')"
   ]
  },
  {
   "cell_type": "code",
   "execution_count": 75,
   "metadata": {
    "collapsed": true
   },
   "outputs": [],
   "source": [
    "%%file submissions/starting_kit/feature_extractor.py\n",
    "from __future__ import unicode_literals\n",
    " \n",
    "import numpy as np\n",
    "import string\n",
    "import unicodedata\n",
    "import pandas as pd\n",
    " \n",
    "\n",
    "from nltk.corpus import stopwords\n",
    "from nltk import word_tokenize\n",
    "from nltk.stem import SnowballStemmer\n",
    "from sklearn.utils.validation import check_is_fitted\n",
    "from sklearn.preprocessing import LabelBinarizer\n",
    " \n",
    " \n",
    " \n",
    "def clean_str(sentence, stem=True):\n",
    "    english_stopwords = set(\n",
    "        [stopword for stopword in stopwords.words('english')])\n",
    "    punctuation = set(string.punctuation)\n",
    "    punctuation.update([\"``\", \"`\", \"...\"])\n",
    "    if stem:\n",
    "        stemmer = SnowballStemmer('english')\n",
    "        return list((filter(lambda x: x.lower() not in english_stopwords and\n",
    "                            x.lower() not in punctuation,\n",
    "                            [stemmer.stem(t.lower())\n",
    "                             for t in word_tokenize(sentence)\n",
    "                             if t.isalpha()])))\n",
    " \n",
    "    return list((filter(lambda x: x.lower() not in english_stopwords and\n",
    "                        x.lower() not in punctuation,\n",
    "                        [t.lower() for t in word_tokenize(sentence)\n",
    "                         if t.isalpha()])))\n",
    "def hasNumbers(inputString):\n",
    "    return any(char.isdigit() for char in inputString) * 1\n",
    " \n",
    "\n",
    "def strip_accents_unicode(s):\n",
    "    try:\n",
    "        s = unicode(s, 'utf-8')\n",
    "    except NameError:  # unicode is a default on python 3\n",
    "        pass\n",
    "    s = unicodedata.normalize('NFD', s)\n",
    "    s = s.encode('ascii', 'ignore')\n",
    "    s = s.decode(\"utf-8\")\n",
    "    return str(s)\n",
    " \n",
    "\n",
    "from sklearn.feature_extraction.text import TfidfVectorizer\n",
    " \n",
    "\n",
    "class FeatureExtractor(TfidfVectorizer):\n",
    "    \"\"\"Convert a collection of raw docs to a matrix of TF-IDF features. \"\"\"\n",
    " \n",
    "    def __init__(self):\n",
    "        super(FeatureExtractor, self).__init__(\n",
    "            input='content', encoding='utf-8',\n",
    "            decode_error='strict', strip_accents=None, lowercase=True,\n",
    "            preprocessor=None, tokenizer=None, analyzer='word',\n",
    "            stop_words=None, token_pattern=r\"(?u)\\b\\w\\w+\\b\",\n",
    "            ngram_range=(1, 3), max_df=1.0, min_df=1,\n",
    "            max_features=7000, vocabulary=None, binary=False,\n",
    "            dtype=np.int64, norm='l2', use_idf=True, smooth_idf=True,\n",
    "            sublinear_tf=False)\n",
    " \n",
    "    def fit(self, X_df, y=None):\n",
    "        \"\"\"Learn a vocabulary dictionary of all tokens in the raw documents.\n",
    " \n",
    "        Parameters\n",
    "        ----------\n",
    "        raw_documents : iterable\n",
    "            An iterable which yields either str, unicode or file objects.\n",
    "        Returns\n",
    "        -------\n",
    "        self\n",
    "        \"\"\"\n",
    "        self._feat = np.array([' '.join(\n",
    "            clean_str(strip_accents_unicode(dd)))\n",
    "            for dd in X_df.statement])\n",
    "        \n",
    "        X_df = X_df.fillna('')\n",
    "        X_df['date'] = pd.to_datetime(X_df['date'])\n",
    "        X_df['year'] = X_df.date.apply(lambda x: x.year)\n",
    "        \n",
    "        self.lb = LabelBinarizer()\n",
    "        self.lb.fit(X_df.year.values)\n",
    "        \n",
    "        self.lb2 = LabelBinarizer()\n",
    "        self.lb2.fit(X_df.job.values)\n",
    "        \n",
    "        self.lb3 = LabelBinarizer()\n",
    "        self.lb3.fit(X_df.state.values)\n",
    "        \n",
    "        self.lb4 = LabelBinarizer()\n",
    "        self.lb4.fit(X_df.edited_by.values)\n",
    "        \n",
    "        super(FeatureExtractor, self).fit(self._feat)\n",
    "        return self\n",
    " \n",
    "    def fit_transform(self, X_df, y=None):\n",
    "        self.fit(X_df)        \n",
    "        return self.transform(X_df)\n",
    " \n",
    "    def transform(self, X_df):\n",
    "        X = np.array([' '.join(clean_str(strip_accents_unicode(dd)))\n",
    "                      for dd in X_df.statement])\n",
    "        check_is_fitted(self, '_feat', 'The tfidf vector is not fitted')\n",
    "        X = super(FeatureExtractor, self).transform(X)\n",
    "        \n",
    "        X_df = X_df.fillna('')\n",
    "        X_df['date'] = pd.to_datetime(X_df['date'])\n",
    "        X_df['year'] = X_df.date.apply(lambda x: x.year)\n",
    "        X_df['statement'] = X_df.statement.apply(lambda x: strip_accents_unicode(x))\n",
    "        \n",
    "        exp = X_df.statement.apply(lambda x : x.count('!')).values\n",
    "        dollar = X_df.statement.apply(lambda s : ('dollar' in s.lower() or '$' in s or 'euros' in s.lower()) * 1).values\n",
    "        intero = X_df.statement.apply(lambda x : x.count('?')).values\n",
    "        cot = X_df.statement.apply(lambda x : x.count('\"') + x.count(\"'\")).values\n",
    "    #    maj = X_df.statement.apply(lambda x : sum(1 for c in x if c.isupper() ) / len(x)).values\n",
    "        maj = X_df.statement.apply(lambda x : sum(1 for c in x if c.isupper() )).values\n",
    "        \n",
    "        number = X_df.statement.apply(lambda x: hasNumbers(x)).values\n",
    "        percent = X_df.statement.apply(lambda x : x.count('%')).values\n",
    "        parentesis = X_df.statement.apply(lambda x : x.count('(') + x.count(\"[\") + x.count(\"{\")).values\n",
    "        \n",
    "        best = X_df.statement.apply(lambda s : ('best' in s.lower() or 'better' in s.lower())).values\n",
    "        worst = X_df.statement.apply(lambda s : ('worst' in s.lower())).values\n",
    "        america = X_df.statement.apply(lambda s : ('america' in s.lower()) * 1).values\n",
    "        trump = X_df.statement.apply(lambda s : ('trump' in s.lower()) * 1).values\n",
    "        obama = X_df.statement.apply(lambda s : ('obama' in s.lower()) * 1).values\n",
    "\n",
    " \n",
    "        \n",
    "        year = self.lb.transform(X_df.year.values)\n",
    "        \n",
    "        job = self.lb2.transform(X_df.job.values)\n",
    "        \n",
    "        state = self.lb3.transform(X_df.state.values)\n",
    "        \n",
    "        author = self.lb3.transform(X_df.edited_by.values)\n",
    "        \n",
    "        length = X_df.statement.apply(lambda x: len(x.split())).values\n",
    "        \n",
    "        return np.c_[year, exp, intero, cot, maj, state, X.todense(), number, dollar, percent, best,  worst, america, trump, obama] "
   ]
  },
  {
   "cell_type": "code",
   "execution_count": 228,
   "metadata": {},
   "outputs": [
    {
     "name": "stdout",
     "output_type": "stream",
     "text": [
      "Overwriting submissions/starting_kit/classifier.py\n"
     ]
    }
   ],
   "source": [
    "%%file submissions/starting_kit/classifier.py\n",
    "from sklearn.base import BaseEstimator\n",
    "from sklearn.naive_bayes import MultinomialNB\n",
    "\n",
    "\n",
    "class Classifier(BaseEstimator):\n",
    "    def __init__(self):\n",
    "        self.clf =MultinomialNB()\n",
    "        \n",
    "    def fit(self, X, y):\n",
    "        self.clf.fit(X, y)\n",
    "\n",
    "    def predict(self, X):\n",
    "        return self.clf.predict(X)\n",
    "\n",
    "    def predict_proba(self, X):        \n",
    "        return self.clf.predict_proba(X)"
   ]
  },
  {
   "cell_type": "code",
   "execution_count": 170,
   "metadata": {
    "collapsed": true
   },
   "outputs": [],
   "source": [
    "from sklearn.metrics import accuracy_score\n",
    "\n",
    "feature_extractor = FeatureExtractor()\n",
    "X_train = feature_extractor.fit_transform(data_train)\n",
    "X_test = feature_extractor.transform(data_test)\n",
    "y_train = data_train.truth.values\n",
    "y_test = data_test.truth.values"
   ]
  },
  {
   "cell_type": "code",
   "execution_count": 171,
   "metadata": {},
   "outputs": [
    {
     "name": "stdout",
     "output_type": "stream",
     "text": [
      "acc: 0.217571774473\n",
      "sacc: 0.393358699412\n",
      "tfacc: 0.58215150467\n"
     ]
    }
   ],
   "source": [
    "clf = Classifier()\n",
    "clf.fit(X_train, y_train)\n",
    "y_pred = clf.predict(X_test)\n",
    "print(\"acc: %s\" %accuracy_score(y_pred, y_test))\n",
    "print(\"sacc: %s\" %precision_score(y_test, ypred))\n",
    "print(\"tfacc: %s\" %accuracy_score(y_pred < 3, y_test < 3))"
   ]
  },
  {
   "cell_type": "code",
   "execution_count": 229,
   "metadata": {},
   "outputs": [
    {
     "name": "stdout",
     "output_type": "stream",
     "text": [
      "\u001b[38;5;178m\u001b[1mTesting Fake news: classify statements of public figures\u001b[0m\n",
      "\u001b[38;5;178m\u001b[1mReading train and test files from ./data ...\u001b[0m\n",
      "\u001b[38;5;178m\u001b[1mReading cv ...\u001b[0m\n",
      "\u001b[38;5;178m\u001b[1mTraining ./submissions/starting_kit ...\u001b[0m\n",
      "\u001b[38;5;178m\u001b[1mCV fold 0\u001b[0m\n",
      "\u001b[38;5;243mCouldn't re-order the score matrix..\u001b[0m\n",
      "\t\u001b[38;5;178m\u001b[1mscore    acc   sacc  tfacc\u001b[0m\n",
      "\t\u001b[38;5;1m\u001b[1mtest\u001b[0m   \u001b[38;5;1m\u001b[1m0.216\u001b[0m  \u001b[38;5;218m0.355\u001b[0m  \u001b[38;5;218m0.541\u001b[0m\n",
      "\t\u001b[38;5;10m\u001b[1mtrain\u001b[0m  \u001b[38;5;10m\u001b[1m0.493\u001b[0m  \u001b[38;5;150m0.436\u001b[0m  \u001b[38;5;150m0.606\u001b[0m\n",
      "\t\u001b[38;5;12m\u001b[1mvalid\u001b[0m  \u001b[38;5;12m\u001b[1m0.200\u001b[0m  \u001b[38;5;105m0.336\u001b[0m  \u001b[38;5;105m0.552\u001b[0m\n",
      "\u001b[38;5;178m\u001b[1mCV fold 1\u001b[0m\n",
      "\u001b[38;5;243mCouldn't re-order the score matrix..\u001b[0m\n",
      "\t\u001b[38;5;178m\u001b[1mscore    acc   sacc  tfacc\u001b[0m\n",
      "\t\u001b[38;5;1m\u001b[1mtest\u001b[0m   \u001b[38;5;1m\u001b[1m0.216\u001b[0m  \u001b[38;5;218m0.352\u001b[0m  \u001b[38;5;218m0.542\u001b[0m\n",
      "\t\u001b[38;5;10m\u001b[1mtrain\u001b[0m  \u001b[38;5;10m\u001b[1m0.497\u001b[0m  \u001b[38;5;150m0.435\u001b[0m  \u001b[38;5;150m0.608\u001b[0m\n",
      "\t\u001b[38;5;12m\u001b[1mvalid\u001b[0m  \u001b[38;5;12m\u001b[1m0.235\u001b[0m  \u001b[38;5;105m0.342\u001b[0m  \u001b[38;5;105m0.549\u001b[0m\n",
      "\u001b[38;5;178m\u001b[1mCV fold 2\u001b[0m\n",
      "\u001b[38;5;243mCouldn't re-order the score matrix..\u001b[0m\n",
      "\t\u001b[38;5;178m\u001b[1mscore    acc   sacc  tfacc\u001b[0m\n",
      "\t\u001b[38;5;1m\u001b[1mtest\u001b[0m   \u001b[38;5;1m\u001b[1m0.213\u001b[0m  \u001b[38;5;218m0.352\u001b[0m  \u001b[38;5;218m0.543\u001b[0m\n",
      "\t\u001b[38;5;10m\u001b[1mtrain\u001b[0m  \u001b[38;5;10m\u001b[1m0.503\u001b[0m  \u001b[38;5;150m0.433\u001b[0m  \u001b[38;5;150m0.609\u001b[0m\n",
      "\t\u001b[38;5;12m\u001b[1mvalid\u001b[0m  \u001b[38;5;12m\u001b[1m0.267\u001b[0m  \u001b[38;5;105m0.362\u001b[0m  \u001b[38;5;105m0.527\u001b[0m\n",
      "\u001b[38;5;178m\u001b[1mCV fold 3\u001b[0m\n",
      "\u001b[38;5;243mCouldn't re-order the score matrix..\u001b[0m\n",
      "\t\u001b[38;5;178m\u001b[1mscore    acc   sacc  tfacc\u001b[0m\n",
      "\t\u001b[38;5;1m\u001b[1mtest\u001b[0m   \u001b[38;5;1m\u001b[1m0.214\u001b[0m  \u001b[38;5;218m0.353\u001b[0m  \u001b[38;5;218m0.541\u001b[0m\n",
      "\t\u001b[38;5;10m\u001b[1mtrain\u001b[0m  \u001b[38;5;10m\u001b[1m0.503\u001b[0m  \u001b[38;5;150m0.438\u001b[0m  \u001b[38;5;150m0.609\u001b[0m\n",
      "\t\u001b[38;5;12m\u001b[1mvalid\u001b[0m  \u001b[38;5;12m\u001b[1m0.217\u001b[0m  \u001b[38;5;105m0.351\u001b[0m  \u001b[38;5;105m0.546\u001b[0m\n",
      "\u001b[38;5;178m\u001b[1mCV fold 4\u001b[0m\n",
      "\u001b[38;5;243mCouldn't re-order the score matrix..\u001b[0m\n",
      "\t\u001b[38;5;178m\u001b[1mscore    acc   sacc  tfacc\u001b[0m\n",
      "\t\u001b[38;5;1m\u001b[1mtest\u001b[0m   \u001b[38;5;1m\u001b[1m0.218\u001b[0m  \u001b[38;5;218m0.351\u001b[0m  \u001b[38;5;218m0.540\u001b[0m\n",
      "\t\u001b[38;5;10m\u001b[1mtrain\u001b[0m  \u001b[38;5;10m\u001b[1m0.497\u001b[0m  \u001b[38;5;150m0.437\u001b[0m  \u001b[38;5;150m0.612\u001b[0m\n",
      "\t\u001b[38;5;12m\u001b[1mvalid\u001b[0m  \u001b[38;5;12m\u001b[1m0.243\u001b[0m  \u001b[38;5;105m0.358\u001b[0m  \u001b[38;5;105m0.553\u001b[0m\n",
      "\u001b[38;5;178m\u001b[1mCV fold 5\u001b[0m\n",
      "\u001b[38;5;243mCouldn't re-order the score matrix..\u001b[0m\n",
      "\t\u001b[38;5;178m\u001b[1mscore    acc   sacc  tfacc\u001b[0m\n",
      "\t\u001b[38;5;1m\u001b[1mtest\u001b[0m   \u001b[38;5;1m\u001b[1m0.209\u001b[0m  \u001b[38;5;218m0.351\u001b[0m  \u001b[38;5;218m0.541\u001b[0m\n",
      "\t\u001b[38;5;10m\u001b[1mtrain\u001b[0m  \u001b[38;5;10m\u001b[1m0.495\u001b[0m  \u001b[38;5;150m0.436\u001b[0m  \u001b[38;5;150m0.609\u001b[0m\n",
      "\t\u001b[38;5;12m\u001b[1mvalid\u001b[0m  \u001b[38;5;12m\u001b[1m0.264\u001b[0m  \u001b[38;5;105m0.362\u001b[0m  \u001b[38;5;105m0.556\u001b[0m\n",
      "\u001b[38;5;178m\u001b[1mCV fold 6\u001b[0m\n",
      "\u001b[38;5;243mCouldn't re-order the score matrix..\u001b[0m\n",
      "\t\u001b[38;5;178m\u001b[1mscore    acc   sacc  tfacc\u001b[0m\n",
      "\t\u001b[38;5;1m\u001b[1mtest\u001b[0m   \u001b[38;5;1m\u001b[1m0.217\u001b[0m  \u001b[38;5;218m0.352\u001b[0m  \u001b[38;5;218m0.543\u001b[0m\n",
      "\t\u001b[38;5;10m\u001b[1mtrain\u001b[0m  \u001b[38;5;10m\u001b[1m0.495\u001b[0m  \u001b[38;5;150m0.432\u001b[0m  \u001b[38;5;150m0.608\u001b[0m\n",
      "\t\u001b[38;5;12m\u001b[1mvalid\u001b[0m  \u001b[38;5;12m\u001b[1m0.243\u001b[0m  \u001b[38;5;105m0.365\u001b[0m  \u001b[38;5;105m0.552\u001b[0m\n",
      "\u001b[38;5;178m\u001b[1mCV fold 7\u001b[0m\n",
      "\u001b[38;5;243mCouldn't re-order the score matrix..\u001b[0m\n",
      "\t\u001b[38;5;178m\u001b[1mscore    acc   sacc  tfacc\u001b[0m\n",
      "\t\u001b[38;5;1m\u001b[1mtest\u001b[0m   \u001b[38;5;1m\u001b[1m0.201\u001b[0m  \u001b[38;5;218m0.346\u001b[0m  \u001b[38;5;218m0.533\u001b[0m\n",
      "\t\u001b[38;5;10m\u001b[1mtrain\u001b[0m  \u001b[38;5;10m\u001b[1m0.487\u001b[0m  \u001b[38;5;150m0.434\u001b[0m  \u001b[38;5;150m0.604\u001b[0m\n",
      "\t\u001b[38;5;12m\u001b[1mvalid\u001b[0m  \u001b[38;5;12m\u001b[1m0.203\u001b[0m  \u001b[38;5;105m0.348\u001b[0m  \u001b[38;5;105m0.538\u001b[0m\n",
      "\u001b[38;5;178m\u001b[1m----------------------------\u001b[0m\n",
      "\u001b[38;5;178m\u001b[1mMean CV scores\u001b[0m\n",
      "\u001b[38;5;178m\u001b[1m----------------------------\u001b[0m\n",
      "\u001b[38;5;243mCouldn't re-order the score matrix..\u001b[0m\n",
      "\t\u001b[38;5;178m\u001b[1mscore             acc            sacc           tfacc\u001b[0m\n",
      "\t\u001b[38;5;1m\u001b[1mtest\u001b[0m   \u001b[38;5;1m\u001b[1m0.213\u001b[0m \u001b[38;5;218m\u001b[38;5;218m\u001b[38;5;218m±\u001b[0m\u001b[0m\u001b[0m \u001b[38;5;218m0.0053\u001b[0m  \u001b[38;5;218m0.351\u001b[0m \u001b[38;5;218m\u001b[38;5;218m\u001b[38;5;218m±\u001b[0m\u001b[0m\u001b[0m \u001b[38;5;218m0.0023\u001b[0m   \u001b[38;5;218m0.54\u001b[0m \u001b[38;5;218m\u001b[38;5;218m\u001b[38;5;218m±\u001b[0m\u001b[0m\u001b[0m \u001b[38;5;218m0.0031\u001b[0m\n",
      "\t\u001b[38;5;10m\u001b[1mtrain\u001b[0m  \u001b[38;5;10m\u001b[1m0.496\u001b[0m \u001b[38;5;150m\u001b[38;5;150m\u001b[38;5;150m±\u001b[0m\u001b[0m\u001b[0m \u001b[38;5;150m0.0048\u001b[0m  \u001b[38;5;150m0.435\u001b[0m \u001b[38;5;150m\u001b[38;5;150m\u001b[38;5;150m±\u001b[0m\u001b[0m\u001b[0m \u001b[38;5;150m0.0019\u001b[0m  \u001b[38;5;150m0.608\u001b[0m \u001b[38;5;150m\u001b[38;5;150m\u001b[38;5;150m±\u001b[0m\u001b[0m\u001b[0m \u001b[38;5;150m0.0022\u001b[0m\n",
      "\t\u001b[38;5;12m\u001b[1mvalid\u001b[0m  \u001b[38;5;12m\u001b[1m0.234\u001b[0m \u001b[38;5;105m\u001b[38;5;105m\u001b[38;5;105m±\u001b[0m\u001b[0m\u001b[0m \u001b[38;5;105m0.0238\u001b[0m  \u001b[38;5;105m0.353\u001b[0m \u001b[38;5;105m\u001b[38;5;105m\u001b[38;5;105m±\u001b[0m\u001b[0m\u001b[0m \u001b[38;5;105m\u001b[38;5;105m0.009\u001b[0m8\u001b[0m   \u001b[38;5;105m0.547\u001b[0m \u001b[38;5;105m\u001b[38;5;105m\u001b[38;5;105m±\u001b[0m\u001b[0m\u001b[0m \u001b[38;5;105m0.009\u001b[0m\n",
      "\u001b[38;5;178m\u001b[1m----------------------------\u001b[0m\n",
      "\u001b[38;5;178m\u001b[1mBagged scores\u001b[0m\n",
      "\u001b[38;5;178m\u001b[1m----------------------------\u001b[0m\n",
      "\u001b[38;5;243mCouldn't re-order the score matrix..\u001b[0m\n",
      "\t\u001b[38;5;178m\u001b[1mscore   sacc\u001b[0m\n",
      "\t\u001b[38;5;1m\u001b[1mtest\u001b[0m   \u001b[38;5;1m\u001b[1m0.351\u001b[0m\n",
      "\t\u001b[38;5;12m\u001b[1mvalid\u001b[0m  \u001b[38;5;12m\u001b[1m0.356\u001b[0m\n"
     ]
    }
   ],
   "source": [
    "!ramp_test_submission "
   ]
  },
  {
   "cell_type": "code",
   "execution_count": null,
   "metadata": {
    "collapsed": true
   },
   "outputs": [],
   "source": []
  },
  {
   "cell_type": "code",
   "execution_count": null,
   "metadata": {
    "collapsed": true
   },
   "outputs": [],
   "source": []
  },
  {
   "cell_type": "code",
   "execution_count": 161,
   "metadata": {},
   "outputs": [
    {
     "data": {
      "text/plain": [
       "array([[ 0.01,  0.12,  0.14,  0.23,  0.25,  0.25],\n",
       "       [ 0.  ,  0.18,  0.11,  0.41,  0.15,  0.15],\n",
       "       [ 0.01,  0.32,  0.08,  0.28,  0.17,  0.14]])"
      ]
     },
     "execution_count": 161,
     "metadata": {},
     "output_type": "execute_result"
    }
   ],
   "source": [
    "feature_extractor = FeatureExtractor()\n",
    "sample = data_train.sample(frac=0.7)\n",
    "X_train = feature_extractor.fit_transform(sample)\n",
    "X_test = feature_extractor.transform(data_test)\n",
    "y_train = sample.truth.values\n",
    "y_test = data_test.truth.values\n",
    "clf = Classifier()\n",
    "clf.fit(X_train, y_train)\n",
    "probas = clf.predict_proba(X_test)\n",
    "np.round(probas, 2)[0:3]"
   ]
  },
  {
   "cell_type": "code",
   "execution_count": 165,
   "metadata": {},
   "outputs": [
    {
     "data": {
      "text/plain": [
       "array([[ 0.03,  0.25,  0.21,  0.19,  0.11,  0.22],\n",
       "       [ 0.  ,  0.29,  0.08,  0.23,  0.08,  0.31],\n",
       "       [ 0.02,  0.19,  0.12,  0.38,  0.17,  0.12]])"
      ]
     },
     "execution_count": 165,
     "metadata": {},
     "output_type": "execute_result"
    }
   ],
   "source": [
    "sample = data_train.sample(frac=0.7)\n",
    "X_train = feature_extractor.fit_transform(sample)\n",
    "y_train = sample.truth.values\n",
    "clf.fit(X_train, y_train)\n",
    "np.round(clf.predict_proba(X_test), 2)[0:3]"
   ]
  },
  {
   "cell_type": "code",
   "execution_count": null,
   "metadata": {
    "collapsed": true
   },
   "outputs": [],
   "source": []
  },
  {
   "cell_type": "code",
   "execution_count": null,
   "metadata": {
    "collapsed": true
   },
   "outputs": [],
   "source": []
  },
  {
   "cell_type": "code",
   "execution_count": null,
   "metadata": {
    "collapsed": true
   },
   "outputs": [],
   "source": []
  },
  {
   "cell_type": "code",
   "execution_count": 172,
   "metadata": {},
   "outputs": [
    {
     "data": {
      "text/plain": [
       "array([[ 0.02,  0.1 ,  0.11,  0.34,  0.22,  0.21],\n",
       "       [ 0.01,  0.15,  0.1 ,  0.41,  0.07,  0.27],\n",
       "       [ 0.01,  0.32,  0.08,  0.25,  0.18,  0.15]])"
      ]
     },
     "execution_count": 172,
     "metadata": {},
     "output_type": "execute_result"
    }
   ],
   "source": [
    "probas = clf.predict_proba(X_test)\n",
    "np.round(probas, 2)[0:3]"
   ]
  },
  {
   "cell_type": "code",
   "execution_count": 173,
   "metadata": {},
   "outputs": [
    {
     "data": {
      "text/plain": [
       "array([[ 0.,  0.,  0.,  1.,  0.,  0.],\n",
       "       [ 0.,  0.,  0.,  1.,  0.,  0.],\n",
       "       [ 0.,  1.,  0.,  0.,  0.,  0.]])"
      ]
     },
     "execution_count": 173,
     "metadata": {},
     "output_type": "execute_result"
    }
   ],
   "source": [
    "from sklearn.preprocessing import normalize\n",
    "np.round(normalize(probas ** 100, axis=1, norm='l1'), 2)[0:3]"
   ]
  },
  {
   "cell_type": "code",
   "execution_count": null,
   "metadata": {
    "collapsed": true
   },
   "outputs": [],
   "source": []
  },
  {
   "cell_type": "code",
   "execution_count": null,
   "metadata": {
    "collapsed": true
   },
   "outputs": [],
   "source": []
  },
  {
   "cell_type": "code",
   "execution_count": 230,
   "metadata": {},
   "outputs": [
    {
     "name": "stdout",
     "output_type": "stream",
     "text": [
      "Overwriting submissions/starting_kit/classifier.py\n"
     ]
    }
   ],
   "source": [
    "%%file submissions/starting_kit/classifier.py\n",
    "# -*- coding: utf-8 -*-\n",
    "from sklearn.base import BaseEstimator\n",
    "from sklearn.naive_bayes import MultinomialNB\n",
    "from sklearn.preprocessing import normalize\n",
    "import numpy as np\n",
    " \n",
    "\n",
    "class Classifier(BaseEstimator):\n",
    "    def __init__(self):\n",
    "        self.clf =MultinomialNB()\n",
    "    def fit(self, X, y):\n",
    "        print(type(X))\n",
    "        self.clf.fit(X, y)\n",
    " \n",
    "    def predict(self, X):\n",
    "        return self.clf.predict(X)\n",
    " \n",
    "    def predict_proba(self, X):\n",
    "        probas = self.clf.predict_proba(X)\n",
    "        \n",
    "        return np.round(normalize(probas ** 100, axis=1, norm='l1'), 2)\n"
   ]
  },
  {
   "cell_type": "code",
   "execution_count": 231,
   "metadata": {},
   "outputs": [
    {
     "name": "stdout",
     "output_type": "stream",
     "text": [
      "\u001b[38;5;178m\u001b[1mTesting Fake news: classify statements of public figures\u001b[0m\n",
      "\u001b[38;5;178m\u001b[1mReading train and test files from ./data ...\u001b[0m\n",
      "\u001b[38;5;178m\u001b[1mReading cv ...\u001b[0m\n",
      "\u001b[38;5;178m\u001b[1mTraining ./submissions/starting_kit ...\u001b[0m\n",
      "\u001b[38;5;178m\u001b[1mCV fold 0\u001b[0m\n",
      "<class 'numpy.matrixlib.defmatrix.matrix'>\n",
      "\u001b[38;5;243mCouldn't re-order the score matrix..\u001b[0m\n",
      "\t\u001b[38;5;178m\u001b[1mscore    acc   sacc  tfacc\u001b[0m\n",
      "\t\u001b[38;5;1m\u001b[1mtest\u001b[0m   \u001b[38;5;1m\u001b[1m0.216\u001b[0m  \u001b[38;5;218m0.391\u001b[0m  \u001b[38;5;218m0.580\u001b[0m\n",
      "\t\u001b[38;5;10m\u001b[1mtrain\u001b[0m  \u001b[38;5;10m\u001b[1m0.492\u001b[0m  \u001b[38;5;150m0.613\u001b[0m  \u001b[38;5;150m0.736\u001b[0m\n",
      "\t\u001b[38;5;12m\u001b[1mvalid\u001b[0m  \u001b[38;5;12m\u001b[1m0.200\u001b[0m  \u001b[38;5;105m0.324\u001b[0m  \u001b[38;5;105m0.586\u001b[0m\n",
      "\u001b[38;5;178m\u001b[1mCV fold 1\u001b[0m\n",
      "<class 'numpy.matrixlib.defmatrix.matrix'>\n",
      "\u001b[38;5;243mCouldn't re-order the score matrix..\u001b[0m\n",
      "\t\u001b[38;5;178m\u001b[1mscore    acc   sacc  tfacc\u001b[0m\n",
      "\t\u001b[38;5;1m\u001b[1mtest\u001b[0m   \u001b[38;5;1m\u001b[1m0.216\u001b[0m  \u001b[38;5;218m0.384\u001b[0m  \u001b[38;5;218m0.570\u001b[0m\n",
      "\t\u001b[38;5;10m\u001b[1mtrain\u001b[0m  \u001b[38;5;10m\u001b[1m0.497\u001b[0m  \u001b[38;5;150m0.614\u001b[0m  \u001b[38;5;150m0.737\u001b[0m\n",
      "\t\u001b[38;5;12m\u001b[1mvalid\u001b[0m  \u001b[38;5;12m\u001b[1m0.235\u001b[0m  \u001b[38;5;105m0.365\u001b[0m  \u001b[38;5;105m0.559\u001b[0m\n",
      "\u001b[38;5;178m\u001b[1mCV fold 2\u001b[0m\n",
      "<class 'numpy.matrixlib.defmatrix.matrix'>\n",
      "\u001b[38;5;243mCouldn't re-order the score matrix..\u001b[0m\n",
      "\t\u001b[38;5;178m\u001b[1mscore    acc   sacc  tfacc\u001b[0m\n",
      "\t\u001b[38;5;1m\u001b[1mtest\u001b[0m   \u001b[38;5;1m\u001b[1m0.213\u001b[0m  \u001b[38;5;218m0.387\u001b[0m  \u001b[38;5;218m0.577\u001b[0m\n",
      "\t\u001b[38;5;10m\u001b[1mtrain\u001b[0m  \u001b[38;5;10m\u001b[1m0.503\u001b[0m  \u001b[38;5;150m0.614\u001b[0m  \u001b[38;5;150m0.733\u001b[0m\n",
      "\t\u001b[38;5;12m\u001b[1mvalid\u001b[0m  \u001b[38;5;12m\u001b[1m0.267\u001b[0m  \u001b[38;5;105m0.442\u001b[0m  \u001b[38;5;105m0.564\u001b[0m\n",
      "\u001b[38;5;178m\u001b[1mCV fold 3\u001b[0m\n",
      "<class 'numpy.matrixlib.defmatrix.matrix'>\n",
      "\u001b[38;5;243mCouldn't re-order the score matrix..\u001b[0m\n",
      "\t\u001b[38;5;178m\u001b[1mscore    acc   sacc  tfacc\u001b[0m\n",
      "\t\u001b[38;5;1m\u001b[1mtest\u001b[0m   \u001b[38;5;1m\u001b[1m0.214\u001b[0m  \u001b[38;5;218m0.388\u001b[0m  \u001b[38;5;218m0.581\u001b[0m\n",
      "\t\u001b[38;5;10m\u001b[1mtrain\u001b[0m  \u001b[38;5;10m\u001b[1m0.503\u001b[0m  \u001b[38;5;150m0.621\u001b[0m  \u001b[38;5;150m0.739\u001b[0m\n",
      "\t\u001b[38;5;12m\u001b[1mvalid\u001b[0m  \u001b[38;5;12m\u001b[1m0.217\u001b[0m  \u001b[38;5;105m0.373\u001b[0m  \u001b[38;5;105m0.597\u001b[0m\n",
      "\u001b[38;5;178m\u001b[1mCV fold 4\u001b[0m\n",
      "<class 'numpy.matrixlib.defmatrix.matrix'>\n",
      "\u001b[38;5;243mCouldn't re-order the score matrix..\u001b[0m\n",
      "\t\u001b[38;5;178m\u001b[1mscore    acc   sacc  tfacc\u001b[0m\n",
      "\t\u001b[38;5;1m\u001b[1mtest\u001b[0m   \u001b[38;5;1m\u001b[1m0.218\u001b[0m  \u001b[38;5;218m0.386\u001b[0m  \u001b[38;5;218m0.577\u001b[0m\n",
      "\t\u001b[38;5;10m\u001b[1mtrain\u001b[0m  \u001b[38;5;10m\u001b[1m0.497\u001b[0m  \u001b[38;5;150m0.613\u001b[0m  \u001b[38;5;150m0.733\u001b[0m\n",
      "\t\u001b[38;5;12m\u001b[1mvalid\u001b[0m  \u001b[38;5;12m\u001b[1m0.243\u001b[0m  \u001b[38;5;105m0.401\u001b[0m  \u001b[38;5;105m0.597\u001b[0m\n",
      "\u001b[38;5;178m\u001b[1mCV fold 5\u001b[0m\n",
      "<class 'numpy.matrixlib.defmatrix.matrix'>\n",
      "\u001b[38;5;243mCouldn't re-order the score matrix..\u001b[0m\n",
      "\t\u001b[38;5;178m\u001b[1mscore    acc   sacc  tfacc\u001b[0m\n",
      "\t\u001b[38;5;1m\u001b[1mtest\u001b[0m   \u001b[38;5;1m\u001b[1m0.210\u001b[0m  \u001b[38;5;218m0.382\u001b[0m  \u001b[38;5;218m0.572\u001b[0m\n",
      "\t\u001b[38;5;10m\u001b[1mtrain\u001b[0m  \u001b[38;5;10m\u001b[1m0.495\u001b[0m  \u001b[38;5;150m0.611\u001b[0m  \u001b[38;5;150m0.725\u001b[0m\n",
      "\t\u001b[38;5;12m\u001b[1mvalid\u001b[0m  \u001b[38;5;12m\u001b[1m0.264\u001b[0m  \u001b[38;5;105m0.422\u001b[0m  \u001b[38;5;105m0.622\u001b[0m\n",
      "\u001b[38;5;178m\u001b[1mCV fold 6\u001b[0m\n",
      "<class 'numpy.matrixlib.defmatrix.matrix'>\n",
      "\u001b[38;5;243mCouldn't re-order the score matrix..\u001b[0m\n",
      "\t\u001b[38;5;178m\u001b[1mscore    acc   sacc  tfacc\u001b[0m\n",
      "\t\u001b[38;5;1m\u001b[1mtest\u001b[0m   \u001b[38;5;1m\u001b[1m0.217\u001b[0m  \u001b[38;5;218m0.391\u001b[0m  \u001b[38;5;218m0.582\u001b[0m\n",
      "\t\u001b[38;5;10m\u001b[1mtrain\u001b[0m  \u001b[38;5;10m\u001b[1m0.495\u001b[0m  \u001b[38;5;150m0.614\u001b[0m  \u001b[38;5;150m0.730\u001b[0m\n",
      "\t\u001b[38;5;12m\u001b[1mvalid\u001b[0m  \u001b[38;5;12m\u001b[1m0.242\u001b[0m  \u001b[38;5;105m0.409\u001b[0m  \u001b[38;5;105m0.587\u001b[0m\n",
      "\u001b[38;5;178m\u001b[1mCV fold 7\u001b[0m\n",
      "<class 'numpy.matrixlib.defmatrix.matrix'>\n",
      "\u001b[38;5;243mCouldn't re-order the score matrix..\u001b[0m\n",
      "\t\u001b[38;5;178m\u001b[1mscore    acc   sacc  tfacc\u001b[0m\n",
      "\t\u001b[38;5;1m\u001b[1mtest\u001b[0m   \u001b[38;5;1m\u001b[1m0.201\u001b[0m  \u001b[38;5;218m0.368\u001b[0m  \u001b[38;5;218m0.556\u001b[0m\n",
      "\t\u001b[38;5;10m\u001b[1mtrain\u001b[0m  \u001b[38;5;10m\u001b[1m0.487\u001b[0m  \u001b[38;5;150m0.609\u001b[0m  \u001b[38;5;150m0.736\u001b[0m\n",
      "\t\u001b[38;5;12m\u001b[1mvalid\u001b[0m  \u001b[38;5;12m\u001b[1m0.204\u001b[0m  \u001b[38;5;105m0.367\u001b[0m  \u001b[38;5;105m0.548\u001b[0m\n",
      "\u001b[38;5;178m\u001b[1m----------------------------\u001b[0m\n",
      "\u001b[38;5;178m\u001b[1mMean CV scores\u001b[0m\n",
      "\u001b[38;5;178m\u001b[1m----------------------------\u001b[0m\n",
      "\u001b[38;5;243mCouldn't re-order the score matrix..\u001b[0m\n",
      "\t\u001b[38;5;178m\u001b[1mscore             acc            sacc           tfacc\u001b[0m\n",
      "\t\u001b[38;5;1m\u001b[1mtest\u001b[0m   \u001b[38;5;1m\u001b[1m0.213\u001b[0m \u001b[38;5;218m\u001b[38;5;218m\u001b[38;5;218m±\u001b[0m\u001b[0m\u001b[0m \u001b[38;5;218m0.0053\u001b[0m  \u001b[38;5;218m0.384\u001b[0m \u001b[38;5;218m\u001b[38;5;218m\u001b[38;5;218m±\u001b[0m\u001b[0m\u001b[0m \u001b[38;5;218m0.0068\u001b[0m  \u001b[38;5;218m0.574\u001b[0m \u001b[38;5;218m\u001b[38;5;218m\u001b[38;5;218m±\u001b[0m\u001b[0m\u001b[0m \u001b[38;5;218m0.0082\u001b[0m\n",
      "\t\u001b[38;5;10m\u001b[1mtrain\u001b[0m  \u001b[38;5;10m\u001b[1m0.496\u001b[0m \u001b[38;5;150m\u001b[38;5;150m\u001b[38;5;150m±\u001b[0m\u001b[0m\u001b[0m \u001b[38;5;150m0.0048\u001b[0m  \u001b[38;5;150m0.614\u001b[0m \u001b[38;5;150m\u001b[38;5;150m\u001b[38;5;150m±\u001b[0m\u001b[0m\u001b[0m \u001b[38;5;150m0.0034\u001b[0m  \u001b[38;5;150m0.734\u001b[0m \u001b[38;5;150m\u001b[38;5;150m\u001b[38;5;150m±\u001b[0m\u001b[0m\u001b[0m \u001b[38;5;150m0.0042\u001b[0m\n",
      "\t\u001b[38;5;12m\u001b[1mvalid\u001b[0m  \u001b[38;5;12m\u001b[1m0.234\u001b[0m \u001b[38;5;105m\u001b[38;5;105m\u001b[38;5;105m±\u001b[0m\u001b[0m\u001b[0m \u001b[38;5;105m0.0236\u001b[0m  \u001b[38;5;105m0.388\u001b[0m \u001b[38;5;105m\u001b[38;5;105m\u001b[38;5;105m±\u001b[0m\u001b[0m\u001b[0m \u001b[38;5;105m0.0352\u001b[0m  \u001b[38;5;105m0.582\u001b[0m \u001b[38;5;105m\u001b[38;5;105m\u001b[38;5;105m±\u001b[0m\u001b[0m\u001b[0m \u001b[38;5;105m0.0224\u001b[0m\n",
      "\u001b[38;5;178m\u001b[1m----------------------------\u001b[0m\n",
      "\u001b[38;5;178m\u001b[1mBagged scores\u001b[0m\n",
      "\u001b[38;5;178m\u001b[1m----------------------------\u001b[0m\n",
      "\u001b[38;5;243mCouldn't re-order the score matrix..\u001b[0m\n",
      "\t\u001b[38;5;178m\u001b[1mscore   sacc\u001b[0m\n",
      "\t\u001b[38;5;1m\u001b[1mtest\u001b[0m   \u001b[38;5;1m\u001b[1m0.384\u001b[0m\n",
      "\t\u001b[38;5;12m\u001b[1mvalid\u001b[0m  \u001b[38;5;12m\u001b[1m0.394\u001b[0m\n"
     ]
    }
   ],
   "source": [
    "!ramp_test_submission "
   ]
  },
  {
   "cell_type": "code",
   "execution_count": 232,
   "metadata": {},
   "outputs": [
    {
     "name": "stdout",
     "output_type": "stream",
     "text": [
      "Overwriting submissions/starting_kit/classifier.py\n"
     ]
    }
   ],
   "source": [
    "%%file submissions/starting_kit/classifier.py\n",
    "# -*- coding: utf-8 -*-\n",
    "from sklearn.base import BaseEstimator\n",
    "from sklearn.naive_bayes import MultinomialNB, BernoulliNB\n",
    "from sklearn.preprocessing import normalize\n",
    "import numpy as np\n",
    " \n",
    "\n",
    "class ClassifierBinary(BaseEstimator):\n",
    "    def __init__(self):\n",
    "        self.clf =MultinomialNB(fit_prior = False)\n",
    "    def fit(self, X, y):\n",
    "        self.clf.fit(X, (y >= 3) * 1)\n",
    " \n",
    "    def predict(self, X):\n",
    "        return self.clf.predict(X)\n",
    "    \n",
    "    def predict_proba(self, X):\n",
    "        return self.clf.predict_proba(X)\n",
    "        \n",
    "class Classifier_Label(BaseEstimator):\n",
    "    def __init__(self):\n",
    "        self.clf =MultinomialNB()\n",
    "    def fit(self, X, y):\n",
    "        self.clf.fit(X, y)\n",
    " \n",
    "    def predict(self, X):\n",
    "        return self.clf.predict(X)\n",
    " \n",
    "    def predict_proba(self, X):\n",
    "        return self.clf.predict_proba(X)\n",
    "    \n",
    "    \n",
    "class Classifier(BaseEstimator):\n",
    "    def __init__(self):\n",
    "        # classifier true or fake\n",
    "        self.clf_bin = ClassifierBinary()\n",
    "        # label classifier true \n",
    "        self.clf_true = Classifier_Label()\n",
    "        # label classifier fake \n",
    "        self.clf_fake = Classifier_Label()\n",
    "        \n",
    "    def fit(self, X, y):\n",
    "        self.clf_bin.fit(X, y)\n",
    "        self.clf_true.fit(X[y >= 3], y[y >= 3])\n",
    "        self.clf_fake.fit(X[y < 3], y[y < 3])\n",
    "        \n",
    "    def predict(self, X):\n",
    "        return np.argmax(self.predict_proba(X), axis=1)\n",
    " \n",
    "    def predict_proba(self, X):\n",
    "        #first predict if true or false\n",
    "        binary_pred = self.clf_bin.predict(X)\n",
    "        #then predict label\n",
    "        probas = np.zeros((X.shape[0], 6))\n",
    "        for i, binary in enumerate(binary_pred):\n",
    "            if binary == 1:\n",
    "                probas[i][3:] = self.clf_true.predict_proba(X[i]) ** 100 # small trick to just have the one proba\n",
    "            else:\n",
    "                probas[i][:3] = self.clf_fake.predict_proba(X[i]) ** 100\n",
    "        return probas"
   ]
  },
  {
   "cell_type": "code",
   "execution_count": 233,
   "metadata": {},
   "outputs": [
    {
     "name": "stdout",
     "output_type": "stream",
     "text": [
      "\u001b[38;5;178m\u001b[1mTesting Fake news: classify statements of public figures\u001b[0m\n",
      "\u001b[38;5;178m\u001b[1mReading train and test files from ./data ...\u001b[0m\n",
      "\u001b[38;5;178m\u001b[1mReading cv ...\u001b[0m\n",
      "\u001b[38;5;178m\u001b[1mTraining ./submissions/starting_kit ...\u001b[0m\n",
      "\u001b[38;5;178m\u001b[1mCV fold 0\u001b[0m\n",
      "\u001b[38;5;243mCouldn't re-order the score matrix..\u001b[0m\n",
      "\t\u001b[38;5;178m\u001b[1mscore    acc   sacc  tfacc\u001b[0m\n",
      "\t\u001b[38;5;1m\u001b[1mtest\u001b[0m   \u001b[38;5;1m\u001b[1m0.217\u001b[0m  \u001b[38;5;218m0.395\u001b[0m  \u001b[38;5;218m0.592\u001b[0m\n",
      "\t\u001b[38;5;10m\u001b[1mtrain\u001b[0m  \u001b[38;5;10m\u001b[1m0.475\u001b[0m  \u001b[38;5;150m0.609\u001b[0m  \u001b[38;5;150m0.756\u001b[0m\n",
      "\t\u001b[38;5;12m\u001b[1mvalid\u001b[0m  \u001b[38;5;12m\u001b[1m0.192\u001b[0m  \u001b[38;5;105m0.324\u001b[0m  \u001b[38;5;105m0.575\u001b[0m\n",
      "\u001b[38;5;178m\u001b[1mCV fold 1\u001b[0m\n",
      "\u001b[38;5;243mCouldn't re-order the score matrix..\u001b[0m\n",
      "\t\u001b[38;5;178m\u001b[1mscore    acc   sacc  tfacc\u001b[0m\n",
      "\t\u001b[38;5;1m\u001b[1mtest\u001b[0m   \u001b[38;5;1m\u001b[1m0.216\u001b[0m  \u001b[38;5;218m0.392\u001b[0m  \u001b[38;5;218m0.591\u001b[0m\n",
      "\t\u001b[38;5;10m\u001b[1mtrain\u001b[0m  \u001b[38;5;10m\u001b[1m0.478\u001b[0m  \u001b[38;5;150m0.610\u001b[0m  \u001b[38;5;150m0.758\u001b[0m\n",
      "\t\u001b[38;5;12m\u001b[1mvalid\u001b[0m  \u001b[38;5;12m\u001b[1m0.240\u001b[0m  \u001b[38;5;105m0.378\u001b[0m  \u001b[38;5;105m0.588\u001b[0m\n",
      "\u001b[38;5;178m\u001b[1mCV fold 2\u001b[0m\n",
      "\u001b[38;5;243mCouldn't re-order the score matrix..\u001b[0m\n",
      "\t\u001b[38;5;178m\u001b[1mscore    acc   sacc  tfacc\u001b[0m\n",
      "\t\u001b[38;5;1m\u001b[1mtest\u001b[0m   \u001b[38;5;1m\u001b[1m0.209\u001b[0m  \u001b[38;5;218m0.389\u001b[0m  \u001b[38;5;218m0.588\u001b[0m\n",
      "\t\u001b[38;5;10m\u001b[1mtrain\u001b[0m  \u001b[38;5;10m\u001b[1m0.494\u001b[0m  \u001b[38;5;150m0.620\u001b[0m  \u001b[38;5;150m0.762\u001b[0m\n",
      "\t\u001b[38;5;12m\u001b[1mvalid\u001b[0m  \u001b[38;5;12m\u001b[1m0.242\u001b[0m  \u001b[38;5;105m0.421\u001b[0m  \u001b[38;5;105m0.544\u001b[0m\n",
      "\u001b[38;5;178m\u001b[1mCV fold 3\u001b[0m\n",
      "\u001b[38;5;243mCouldn't re-order the score matrix..\u001b[0m\n",
      "\t\u001b[38;5;178m\u001b[1mscore    acc   sacc  tfacc\u001b[0m\n",
      "\t\u001b[38;5;1m\u001b[1mtest\u001b[0m   \u001b[38;5;1m\u001b[1m0.212\u001b[0m  \u001b[38;5;218m0.391\u001b[0m  \u001b[38;5;218m0.595\u001b[0m\n",
      "\t\u001b[38;5;10m\u001b[1mtrain\u001b[0m  \u001b[38;5;10m\u001b[1m0.491\u001b[0m  \u001b[38;5;150m0.622\u001b[0m  \u001b[38;5;150m0.761\u001b[0m\n",
      "\t\u001b[38;5;12m\u001b[1mvalid\u001b[0m  \u001b[38;5;12m\u001b[1m0.238\u001b[0m  \u001b[38;5;105m0.391\u001b[0m  \u001b[38;5;105m0.608\u001b[0m\n",
      "\u001b[38;5;178m\u001b[1mCV fold 4\u001b[0m\n",
      "\u001b[38;5;243mCouldn't re-order the score matrix..\u001b[0m\n",
      "\t\u001b[38;5;178m\u001b[1mscore    acc   sacc  tfacc\u001b[0m\n",
      "\t\u001b[38;5;1m\u001b[1mtest\u001b[0m   \u001b[38;5;1m\u001b[1m0.217\u001b[0m  \u001b[38;5;218m0.393\u001b[0m  \u001b[38;5;218m0.593\u001b[0m\n",
      "\t\u001b[38;5;10m\u001b[1mtrain\u001b[0m  \u001b[38;5;10m\u001b[1m0.494\u001b[0m  \u001b[38;5;150m0.622\u001b[0m  \u001b[38;5;150m0.766\u001b[0m\n",
      "\t\u001b[38;5;12m\u001b[1mvalid\u001b[0m  \u001b[38;5;12m\u001b[1m0.251\u001b[0m  \u001b[38;5;105m0.414\u001b[0m  \u001b[38;5;105m0.619\u001b[0m\n",
      "\u001b[38;5;178m\u001b[1mCV fold 5\u001b[0m\n",
      "\u001b[38;5;243mCouldn't re-order the score matrix..\u001b[0m\n",
      "\t\u001b[38;5;178m\u001b[1mscore    acc   sacc  tfacc\u001b[0m\n",
      "\t\u001b[38;5;1m\u001b[1mtest\u001b[0m   \u001b[38;5;1m\u001b[1m0.213\u001b[0m  \u001b[38;5;218m0.392\u001b[0m  \u001b[38;5;218m0.592\u001b[0m\n",
      "\t\u001b[38;5;10m\u001b[1mtrain\u001b[0m  \u001b[38;5;10m\u001b[1m0.488\u001b[0m  \u001b[38;5;150m0.618\u001b[0m  \u001b[38;5;150m0.763\u001b[0m\n",
      "\t\u001b[38;5;12m\u001b[1mvalid\u001b[0m  \u001b[38;5;12m\u001b[1m0.263\u001b[0m  \u001b[38;5;105m0.424\u001b[0m  \u001b[38;5;105m0.629\u001b[0m\n",
      "\u001b[38;5;178m\u001b[1mCV fold 6\u001b[0m\n",
      "\u001b[38;5;243mCouldn't re-order the score matrix..\u001b[0m\n",
      "\t\u001b[38;5;178m\u001b[1mscore    acc   sacc  tfacc\u001b[0m\n",
      "\t\u001b[38;5;1m\u001b[1mtest\u001b[0m   \u001b[38;5;1m\u001b[1m0.213\u001b[0m  \u001b[38;5;218m0.394\u001b[0m  \u001b[38;5;218m0.598\u001b[0m\n",
      "\t\u001b[38;5;10m\u001b[1mtrain\u001b[0m  \u001b[38;5;10m\u001b[1m0.484\u001b[0m  \u001b[38;5;150m0.620\u001b[0m  \u001b[38;5;150m0.767\u001b[0m\n",
      "\t\u001b[38;5;12m\u001b[1mvalid\u001b[0m  \u001b[38;5;12m\u001b[1m0.263\u001b[0m  \u001b[38;5;105m0.441\u001b[0m  \u001b[38;5;105m0.641\u001b[0m\n",
      "\u001b[38;5;178m\u001b[1mCV fold 7\u001b[0m\n",
      "\u001b[38;5;243mCouldn't re-order the score matrix..\u001b[0m\n",
      "\t\u001b[38;5;178m\u001b[1mscore    acc   sacc  tfacc\u001b[0m\n",
      "\t\u001b[38;5;1m\u001b[1mtest\u001b[0m   \u001b[38;5;1m\u001b[1m0.200\u001b[0m  \u001b[38;5;218m0.374\u001b[0m  \u001b[38;5;218m0.571\u001b[0m\n",
      "\t\u001b[38;5;10m\u001b[1mtrain\u001b[0m  \u001b[38;5;10m\u001b[1m0.473\u001b[0m  \u001b[38;5;150m0.608\u001b[0m  \u001b[38;5;150m0.762\u001b[0m\n",
      "\t\u001b[38;5;12m\u001b[1mvalid\u001b[0m  \u001b[38;5;12m\u001b[1m0.218\u001b[0m  \u001b[38;5;105m0.379\u001b[0m  \u001b[38;5;105m0.563\u001b[0m\n",
      "\u001b[38;5;178m\u001b[1m----------------------------\u001b[0m\n",
      "\u001b[38;5;178m\u001b[1mMean CV scores\u001b[0m\n",
      "\u001b[38;5;178m\u001b[1m----------------------------\u001b[0m\n",
      "\u001b[38;5;243mCouldn't re-order the score matrix..\u001b[0m\n",
      "\t\u001b[38;5;178m\u001b[1mscore             acc            sacc           tfacc\u001b[0m\n",
      "\t\u001b[38;5;1m\u001b[1mtest\u001b[0m   \u001b[38;5;1m\u001b[1m0.212\u001b[0m \u001b[38;5;218m\u001b[38;5;218m\u001b[38;5;218m±\u001b[0m\u001b[0m\u001b[0m \u001b[38;5;218m0.0051\u001b[0m   \u001b[38;5;218m0.39\u001b[0m \u001b[38;5;218m\u001b[38;5;218m\u001b[38;5;218m±\u001b[0m\u001b[0m\u001b[0m \u001b[38;5;218m0.0064\u001b[0m   \u001b[38;5;218m0.59\u001b[0m \u001b[38;5;218m\u001b[38;5;218m\u001b[38;5;218m±\u001b[0m\u001b[0m\u001b[0m \u001b[38;5;218m0.0077\u001b[0m\n",
      "\t\u001b[38;5;10m\u001b[1mtrain\u001b[0m  \u001b[38;5;10m\u001b[1m0.485\u001b[0m \u001b[38;5;150m\u001b[38;5;150m\u001b[38;5;150m±\u001b[0m\u001b[0m\u001b[0m \u001b[38;5;150m0.0078\u001b[0m  \u001b[38;5;150m0.616\u001b[0m \u001b[38;5;150m\u001b[38;5;150m\u001b[38;5;150m±\u001b[0m\u001b[0m\u001b[0m \u001b[38;5;150m0.0057\u001b[0m  \u001b[38;5;150m0.762\u001b[0m \u001b[38;5;150m\u001b[38;5;150m\u001b[38;5;150m±\u001b[0m\u001b[0m\u001b[0m \u001b[38;5;150m0.0035\u001b[0m\n",
      "\t\u001b[38;5;12m\u001b[1mvalid\u001b[0m  \u001b[38;5;12m\u001b[1m0.238\u001b[0m \u001b[38;5;105m\u001b[38;5;105m\u001b[38;5;105m±\u001b[0m\u001b[0m\u001b[0m \u001b[38;5;105m0.0223\u001b[0m  \u001b[38;5;105m0.396\u001b[0m \u001b[38;5;105m\u001b[38;5;105m\u001b[38;5;105m±\u001b[0m\u001b[0m\u001b[0m \u001b[38;5;105m0.0345\u001b[0m  \u001b[38;5;105m0.596\u001b[0m \u001b[38;5;105m\u001b[38;5;105m\u001b[38;5;105m±\u001b[0m\u001b[0m\u001b[0m \u001b[38;5;105m0.0318\u001b[0m\n",
      "\u001b[38;5;178m\u001b[1m----------------------------\u001b[0m\n",
      "\u001b[38;5;178m\u001b[1mBagged scores\u001b[0m\n",
      "\u001b[38;5;178m\u001b[1m----------------------------\u001b[0m\n",
      "\u001b[38;5;243mCouldn't re-order the score matrix..\u001b[0m\n",
      "\t\u001b[38;5;178m\u001b[1mscore   sacc\u001b[0m\n",
      "\t\u001b[38;5;1m\u001b[1mtest\u001b[0m   \u001b[38;5;1m\u001b[1m0.380\u001b[0m\n",
      "\t\u001b[38;5;12m\u001b[1mvalid\u001b[0m  \u001b[38;5;12m\u001b[1m0.407\u001b[0m\n"
     ]
    }
   ],
   "source": [
    "!ramp_test_submission "
   ]
  },
  {
   "cell_type": "code",
   "execution_count": 225,
   "metadata": {},
   "outputs": [
    {
     "name": "stdout",
     "output_type": "stream",
     "text": [
      "Populating the interactive namespace from numpy and matplotlib\n"
     ]
    },
    {
     "data": {
      "image/png": "[encoded data removed]",
      "text/plain": [
       "<matplotlib.figure.Figure at 0x10e762450>"
      ]
     },
     "metadata": {},
     "output_type": "display_data"
    }
   ],
   "source": [
    "%pylab inline\n",
    "pylab.rcParams['figure.figsize'] = (10, 6)\n",
    "data_test.groupby('truth').count()[['source']].reset_index().plot.bar(x='truth', y='source', color='green');"
   ]
  },
  {
   "cell_type": "code",
   "execution_count": 234,
   "metadata": {},
   "outputs": [
    {
     "name": "stdout",
     "output_type": "stream",
     "text": [
      "Overwriting submissions/starting_kit/classifier.py\n"
     ]
    }
   ],
   "source": [
    "%%file submissions/starting_kit/classifier.py\n",
    "# -*- coding: utf-8 -*-\n",
    "from sklearn.base import BaseEstimator\n",
    "from sklearn.naive_bayes import MultinomialNB\n",
    "from sklearn.preprocessing import normalize\n",
    "import numpy as np\n",
    " \n",
    "\n",
    "class Classifier(BaseEstimator):\n",
    "    def __init__(self):\n",
    "        self.clf =MultinomialNB(fit_prior = False)\n",
    "    def fit(self, X, y):\n",
    "        self.clf.fit(X, (y >= 3) * 1)\n",
    " \n",
    "    def predict(self, X):\n",
    "        return self.clf.predict(X) * 3 + 1\n",
    "        # return 1 if pred < 3, 4 if predict >=3\n",
    "    \n",
    "    def predict_proba(self, X):\n",
    "        ypred = self.clf.predict(X)\n",
    "        yprobas = []\n",
    "        for i in range(ypred.shape[0]):\n",
    "            if ypred[i] ==1:\n",
    "                proba = [0, 0, 0, 0, 1, 0]\n",
    "            else:\n",
    "                proba = [0, 1, 0, 0, 0, 0]\n",
    "            yprobas.append(proba)\n",
    "        return np.array(yprobas)"
   ]
  },
  {
   "cell_type": "code",
   "execution_count": 235,
   "metadata": {},
   "outputs": [
    {
     "name": "stdout",
     "output_type": "stream",
     "text": [
      "\u001b[38;5;178m\u001b[1mTesting Fake news: classify statements of public figures\u001b[0m\n",
      "\u001b[38;5;178m\u001b[1mReading train and test files from ./data ...\u001b[0m\n",
      "\u001b[38;5;178m\u001b[1mReading cv ...\u001b[0m\n",
      "\u001b[38;5;178m\u001b[1mTraining ./submissions/starting_kit ...\u001b[0m\n",
      "\u001b[38;5;178m\u001b[1mCV fold 0\u001b[0m\n",
      "\u001b[38;5;243mCouldn't re-order the score matrix..\u001b[0m\n",
      "\t\u001b[38;5;178m\u001b[1mscore    acc   sacc  tfacc\u001b[0m\n",
      "\t\u001b[38;5;1m\u001b[1mtest\u001b[0m   \u001b[38;5;1m\u001b[1m0.236\u001b[0m  \u001b[38;5;218m0.438\u001b[0m  \u001b[38;5;218m0.592\u001b[0m\n",
      "\t\u001b[38;5;10m\u001b[1mtrain\u001b[0m  \u001b[38;5;10m\u001b[1m0.281\u001b[0m  \u001b[38;5;150m0.555\u001b[0m  \u001b[38;5;150m0.756\u001b[0m\n",
      "\t\u001b[38;5;12m\u001b[1mvalid\u001b[0m  \u001b[38;5;12m\u001b[1m0.178\u001b[0m  \u001b[38;5;105m0.429\u001b[0m  \u001b[38;5;105m0.575\u001b[0m\n",
      "\u001b[38;5;178m\u001b[1mCV fold 1\u001b[0m\n",
      "\u001b[38;5;243mCouldn't re-order the score matrix..\u001b[0m\n",
      "\t\u001b[38;5;178m\u001b[1mscore    acc   sacc  tfacc\u001b[0m\n",
      "\t\u001b[38;5;1m\u001b[1mtest\u001b[0m   \u001b[38;5;1m\u001b[1m0.236\u001b[0m  \u001b[38;5;218m0.438\u001b[0m  \u001b[38;5;218m0.591\u001b[0m\n",
      "\t\u001b[38;5;10m\u001b[1mtrain\u001b[0m  \u001b[38;5;10m\u001b[1m0.277\u001b[0m  \u001b[38;5;150m0.556\u001b[0m  \u001b[38;5;150m0.758\u001b[0m\n",
      "\t\u001b[38;5;12m\u001b[1mvalid\u001b[0m  \u001b[38;5;12m\u001b[1m0.221\u001b[0m  \u001b[38;5;105m0.446\u001b[0m  \u001b[38;5;105m0.588\u001b[0m\n",
      "\u001b[38;5;178m\u001b[1mCV fold 2\u001b[0m\n",
      "\u001b[38;5;243mCouldn't re-order the score matrix..\u001b[0m\n",
      "\t\u001b[38;5;178m\u001b[1mscore    acc   sacc  tfacc\u001b[0m\n",
      "\t\u001b[38;5;1m\u001b[1mtest\u001b[0m   \u001b[38;5;1m\u001b[1m0.235\u001b[0m  \u001b[38;5;218m0.436\u001b[0m  \u001b[38;5;218m0.588\u001b[0m\n",
      "\t\u001b[38;5;10m\u001b[1mtrain\u001b[0m  \u001b[38;5;10m\u001b[1m0.278\u001b[0m  \u001b[38;5;150m0.559\u001b[0m  \u001b[38;5;150m0.762\u001b[0m\n",
      "\t\u001b[38;5;12m\u001b[1mvalid\u001b[0m  \u001b[38;5;12m\u001b[1m0.225\u001b[0m  \u001b[38;5;105m0.424\u001b[0m  \u001b[38;5;105m0.544\u001b[0m\n",
      "\u001b[38;5;178m\u001b[1mCV fold 3\u001b[0m\n",
      "\u001b[38;5;243mCouldn't re-order the score matrix..\u001b[0m\n",
      "\t\u001b[38;5;178m\u001b[1mscore    acc   sacc  tfacc\u001b[0m\n",
      "\t\u001b[38;5;1m\u001b[1mtest\u001b[0m   \u001b[38;5;1m\u001b[1m0.238\u001b[0m  \u001b[38;5;218m0.441\u001b[0m  \u001b[38;5;218m0.595\u001b[0m\n",
      "\t\u001b[38;5;10m\u001b[1mtrain\u001b[0m  \u001b[38;5;10m\u001b[1m0.284\u001b[0m  \u001b[38;5;150m0.561\u001b[0m  \u001b[38;5;150m0.761\u001b[0m\n",
      "\t\u001b[38;5;12m\u001b[1mvalid\u001b[0m  \u001b[38;5;12m\u001b[1m0.218\u001b[0m  \u001b[38;5;105m0.448\u001b[0m  \u001b[38;5;105m0.608\u001b[0m\n",
      "\u001b[38;5;178m\u001b[1mCV fold 4\u001b[0m\n",
      "\u001b[38;5;243mCouldn't re-order the score matrix..\u001b[0m\n",
      "\t\u001b[38;5;178m\u001b[1mscore    acc   sacc  tfacc\u001b[0m\n",
      "\t\u001b[38;5;1m\u001b[1mtest\u001b[0m   \u001b[38;5;1m\u001b[1m0.238\u001b[0m  \u001b[38;5;218m0.440\u001b[0m  \u001b[38;5;218m0.593\u001b[0m\n",
      "\t\u001b[38;5;10m\u001b[1mtrain\u001b[0m  \u001b[38;5;10m\u001b[1m0.277\u001b[0m  \u001b[38;5;150m0.561\u001b[0m  \u001b[38;5;150m0.766\u001b[0m\n",
      "\t\u001b[38;5;12m\u001b[1mvalid\u001b[0m  \u001b[38;5;12m\u001b[1m0.233\u001b[0m  \u001b[38;5;105m0.463\u001b[0m  \u001b[38;5;105m0.619\u001b[0m\n",
      "\u001b[38;5;178m\u001b[1mCV fold 5\u001b[0m\n",
      "\u001b[38;5;243mCouldn't re-order the score matrix..\u001b[0m\n",
      "\t\u001b[38;5;178m\u001b[1mscore    acc   sacc  tfacc\u001b[0m\n",
      "\t\u001b[38;5;1m\u001b[1mtest\u001b[0m   \u001b[38;5;1m\u001b[1m0.236\u001b[0m  \u001b[38;5;218m0.439\u001b[0m  \u001b[38;5;218m0.592\u001b[0m\n",
      "\t\u001b[38;5;10m\u001b[1mtrain\u001b[0m  \u001b[38;5;10m\u001b[1m0.277\u001b[0m  \u001b[38;5;150m0.561\u001b[0m  \u001b[38;5;150m0.763\u001b[0m\n",
      "\t\u001b[38;5;12m\u001b[1mvalid\u001b[0m  \u001b[38;5;12m\u001b[1m0.236\u001b[0m  \u001b[38;5;105m0.460\u001b[0m  \u001b[38;5;105m0.629\u001b[0m\n",
      "\u001b[38;5;178m\u001b[1mCV fold 6\u001b[0m\n",
      "\u001b[38;5;243mCouldn't re-order the score matrix..\u001b[0m\n",
      "\t\u001b[38;5;178m\u001b[1mscore    acc   sacc  tfacc\u001b[0m\n",
      "\t\u001b[38;5;1m\u001b[1mtest\u001b[0m   \u001b[38;5;1m\u001b[1m0.241\u001b[0m  \u001b[38;5;218m0.444\u001b[0m  \u001b[38;5;218m0.598\u001b[0m\n",
      "\t\u001b[38;5;10m\u001b[1mtrain\u001b[0m  \u001b[38;5;10m\u001b[1m0.284\u001b[0m  \u001b[38;5;150m0.567\u001b[0m  \u001b[38;5;150m0.767\u001b[0m\n",
      "\t\u001b[38;5;12m\u001b[1mvalid\u001b[0m  \u001b[38;5;12m\u001b[1m0.220\u001b[0m  \u001b[38;5;105m0.462\u001b[0m  \u001b[38;5;105m0.641\u001b[0m\n",
      "\u001b[38;5;178m\u001b[1mCV fold 7\u001b[0m\n",
      "\u001b[38;5;243mCouldn't re-order the score matrix..\u001b[0m\n",
      "\t\u001b[38;5;178m\u001b[1mscore    acc   sacc  tfacc\u001b[0m\n",
      "\t\u001b[38;5;1m\u001b[1mtest\u001b[0m   \u001b[38;5;1m\u001b[1m0.229\u001b[0m  \u001b[38;5;218m0.420\u001b[0m  \u001b[38;5;218m0.571\u001b[0m\n",
      "\t\u001b[38;5;10m\u001b[1mtrain\u001b[0m  \u001b[38;5;10m\u001b[1m0.280\u001b[0m  \u001b[38;5;150m0.560\u001b[0m  \u001b[38;5;150m0.762\u001b[0m\n",
      "\t\u001b[38;5;12m\u001b[1mvalid\u001b[0m  \u001b[38;5;12m\u001b[1m0.221\u001b[0m  \u001b[38;5;105m0.418\u001b[0m  \u001b[38;5;105m0.563\u001b[0m\n",
      "\u001b[38;5;178m\u001b[1m----------------------------\u001b[0m\n",
      "\u001b[38;5;178m\u001b[1mMean CV scores\u001b[0m\n",
      "\u001b[38;5;178m\u001b[1m----------------------------\u001b[0m\n",
      "\u001b[38;5;243mCouldn't re-order the score matrix..\u001b[0m\n",
      "\t\u001b[38;5;178m\u001b[1mscore             acc            sacc           tfacc\u001b[0m\n",
      "\t\u001b[38;5;1m\u001b[1mtest\u001b[0m   \u001b[38;5;1m\u001b[1m0.236\u001b[0m \u001b[38;5;218m\u001b[38;5;218m\u001b[38;5;218m±\u001b[0m\u001b[0m\u001b[0m \u001b[38;5;218m0.0033\u001b[0m  \u001b[38;5;218m0.437\u001b[0m \u001b[38;5;218m\u001b[38;5;218m\u001b[38;5;218m±\u001b[0m\u001b[0m\u001b[0m \u001b[38;5;218m0.0068\u001b[0m   \u001b[38;5;218m0.59\u001b[0m \u001b[38;5;218m\u001b[38;5;218m\u001b[38;5;218m±\u001b[0m\u001b[0m\u001b[0m \u001b[38;5;218m0.0077\u001b[0m\n",
      "\t\u001b[38;5;10m\u001b[1mtrain\u001b[0m   \u001b[38;5;10m\u001b[1m0.28\u001b[0m \u001b[38;5;150m\u001b[38;5;150m\u001b[38;5;150m±\u001b[0m\u001b[0m\u001b[0m \u001b[38;5;150m0.0026\u001b[0m   \u001b[38;5;150m0.56\u001b[0m \u001b[38;5;150m\u001b[38;5;150m\u001b[38;5;150m±\u001b[0m\u001b[0m\u001b[0m \u001b[38;5;150m0.0034\u001b[0m  \u001b[38;5;150m0.762\u001b[0m \u001b[38;5;150m\u001b[38;5;150m\u001b[38;5;150m±\u001b[0m\u001b[0m\u001b[0m \u001b[38;5;150m0.0035\u001b[0m\n",
      "\t\u001b[38;5;12m\u001b[1mvalid\u001b[0m  \u001b[38;5;12m\u001b[1m0.219\u001b[0m \u001b[38;5;105m\u001b[38;5;105m\u001b[38;5;105m±\u001b[0m\u001b[0m\u001b[0m \u001b[38;5;105m0.0165\u001b[0m  \u001b[38;5;105m0.444\u001b[0m \u001b[38;5;105m\u001b[38;5;105m\u001b[38;5;105m±\u001b[0m\u001b[0m\u001b[0m \u001b[38;5;105m0.0168\u001b[0m  \u001b[38;5;105m0.596\u001b[0m \u001b[38;5;105m\u001b[38;5;105m\u001b[38;5;105m±\u001b[0m\u001b[0m\u001b[0m \u001b[38;5;105m0.0318\u001b[0m\n",
      "\u001b[38;5;178m\u001b[1m----------------------------\u001b[0m\n",
      "\u001b[38;5;178m\u001b[1mBagged scores\u001b[0m\n",
      "\u001b[38;5;178m\u001b[1m----------------------------\u001b[0m\n",
      "\u001b[38;5;243mCouldn't re-order the score matrix..\u001b[0m\n",
      "\t\u001b[38;5;178m\u001b[1mscore   sacc\u001b[0m\n",
      "\t\u001b[38;5;1m\u001b[1mtest\u001b[0m   \u001b[38;5;1m\u001b[1m0.437\u001b[0m\n",
      "\t\u001b[38;5;12m\u001b[1mvalid\u001b[0m  \u001b[38;5;12m\u001b[1m0.450\u001b[0m\n"
     ]
    }
   ],
   "source": [
    "!ramp_test_submission "
   ]
  },
  {
   "cell_type": "code",
   "execution_count": null,
   "metadata": {
    "collapsed": true
   },
   "outputs": [],
   "source": []
  }
 ],
 "metadata": {
  "kernelspec": {
   "display_name": "Python 2",
   "language": "python",
   "name": "python2"
  },
  "language_info": {
   "codemirror_mode": {
    "name": "ipython",
    "version": 2
   },
   "file_extension": ".py",
   "mimetype": "text/x-python",
   "name": "python",
   "nbconvert_exporter": "python",
   "pygments_lexer": "ipython2",
   "version": "2.7.12"
  }
 },
 "nbformat": 4,
 "nbformat_minor": 2
}
